{
 "cells": [
  {
   "cell_type": "code",
   "execution_count": 1,
   "id": "e1a1877a",
   "metadata": {},
   "outputs": [
    {
     "name": "stdout",
     "output_type": "stream",
     "text": [
      "Enter number of nodes : 7\n",
      "Enter number of edges for node 1 : 2\n",
      "Enter edge 1 for node 1 : 2\n",
      "Enter edge 2 for node 1 : 5\n",
      "Enter number of edges for node 2 : 2\n",
      "Enter edge 1 for node 2 : 5\n",
      "Enter edge 2 for node 2 : 4\n",
      "Enter number of edges for node 3 : 1\n",
      "Enter edge 1 for node 3 : 4\n",
      "Enter number of edges for node 4 : 7\n",
      "Enter edge 1 for node 4 : 1\n",
      "Enter edge 2 for node 4 : 3\n",
      "Enter edge 3 for node 4 : 1\n",
      "Enter edge 4 for node 4 : 6\n",
      "Enter edge 5 for node 4 : 1\n",
      "Enter edge 6 for node 4 : 7\n",
      "Enter edge 7 for node 4 : 2\n",
      "Enter number of edges for node 5 : 1\n",
      "Enter edge 1 for node 5 : 4\n",
      "Enter number of edges for node 6 : 1\n",
      "Enter edge 1 for node 6 : 6\n",
      "Enter number of edges for node 7 : 1\n",
      "Enter edge 1 for node 7 : 3\n",
      "The following is DFS\n",
      "1 2 5 4 3 6 7 \n",
      "The following is BFS\n",
      "1 2 5 4 3 6 7 "
     ]
    }
   ],
   "source": [
    "\n",
    "def dfs(visited,graph,node):\n",
    "    if node not in visited:\n",
    "        print(node,end = \" \")\n",
    "        visited.add(node)\n",
    "        for neighbour in graph[node]:\n",
    "            dfs(visited, graph, neighbour)\n",
    "\n",
    "def bfs(visited,graph,node,queue):\n",
    "    visited.add(node)\n",
    "    queue.append(node)\n",
    "\n",
    "    while queue:\n",
    "        s = queue.pop(0)\n",
    "        print(s,end = \" \")\n",
    "        for neighbour in graph[s]:\n",
    "            if neighbour not in visited:\n",
    "                visited.add(neighbour)\n",
    "                queue.append(neighbour)\n",
    "\n",
    "def main():\n",
    "    visited1 = set() # TO keep track of DFS visited nodes\n",
    "    visited2 = set() # TO keep track of BFS visited nodes\n",
    "    queue = []       # For BFS\n",
    "    n = int(input(\"Enter number of nodes : \"))\n",
    "    graph = dict()\n",
    "\n",
    "    for i in range(1,n+1):\n",
    "        edges = int(input(\"Enter number of edges for node {} : \".format(i)))\n",
    "        graph[i] = list()\n",
    "        for j in range(1,edges+1):\n",
    "            node = int(input(\"Enter edge {} for node {} : \".format(j,i)))\n",
    "            graph[i].append(node)\n",
    "\n",
    "    print(\"The following is DFS\")\n",
    "    dfs(visited1, graph, 1)\n",
    "    print()\n",
    "    print(\"The following is BFS\")\n",
    "    bfs(visited2, graph, 1, queue)\n",
    "\n",
    "if __name__==\"__main__\":\n",
    "    main()"
   ]
  },
  {
   "cell_type": "code",
   "execution_count": null,
   "id": "0bb791cf",
   "metadata": {},
   "outputs": [],
   "source": []
  }
 ],
 "metadata": {
  "kernelspec": {
   "display_name": "Python 3 (ipykernel)",
   "language": "python",
   "name": "python3"
  },
  "language_info": {
   "codemirror_mode": {
    "name": "ipython",
    "version": 3
   },
   "file_extension": ".py",
   "mimetype": "text/x-python",
   "name": "python",
   "nbconvert_exporter": "python",
   "pygments_lexer": "ipython3",
   "version": "3.10.9"
  }
 },
 "nbformat": 4,
 "nbformat_minor": 5
}
