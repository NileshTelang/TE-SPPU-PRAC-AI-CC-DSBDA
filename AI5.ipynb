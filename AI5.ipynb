{
 "cells": [
  {
   "cell_type": "code",
   "execution_count": null,
   "id": "e8a1acdc",
   "metadata": {},
   "outputs": [],
   "source": [
    "import random\n",
    "\n",
    "# Define a dictionary of predefined prompts and their corresponding responses\n",
    "prompts = {\n",
    "    \"hi\": [\"Hello!\", \"Hi there!\", \"Hey!\"],\n",
    "    \"how are you\": [\"I'm good, thanks!\", \"I'm doing well!\", \"All is well!\"],\n",
    "    \"bye\": [\"Goodbye!\", \"See you later!\", \"Take care!\"],\n",
    "    \"default\": [\"I'm sorry, I didn't understand that.\", \"Can you please rephrase that?\", \"I'm still learning. Please bear with me.\"],\n",
    "    \"what do you do\": [\"I am a customer serive chatbot!\"],\n",
    "}\n",
    "\n",
    "# Function to generate a response based on user input\n",
    "def generate_response(user_input):\n",
    "    # Convert user input to lowercase for case-insensitive matching\n",
    "    user_input = user_input.lower()\n",
    "\n",
    "    # Check if user input matches any predefined prompts\n",
    "    for prompt, responses in prompts.items():\n",
    "        if user_input in prompt:\n",
    "            return random.choice(responses)\n",
    "\n",
    "    # If no matching prompt is found, return a default response\n",
    "    return random.choice(prompts[\"default\"])\n",
    "\n",
    "# Main interaction loop\n",
    "while True:\n",
    "    # Get user input\n",
    "    user_input = input(\"User: \")\n",
    "\n",
    "    # Generate and display bot response\n",
    "    bot_response = generate_response(user_input)\n",
    "    print(\"ChatBot:\", bot_response)\n",
    "\n",
    "    # Exit the loop if the user says goodbye\n",
    "    if \"bye\" in user_input.lower():\n",
    "        break\n"
   ]
  },
  {
   "cell_type": "code",
   "execution_count": null,
   "id": "a84a778e",
   "metadata": {},
   "outputs": [],
   "source": []
  }
 ],
 "metadata": {
  "kernelspec": {
   "display_name": "Python 3 (ipykernel)",
   "language": "python",
   "name": "python3"
  },
  "language_info": {
   "codemirror_mode": {
    "name": "ipython",
    "version": 3
   },
   "file_extension": ".py",
   "mimetype": "text/x-python",
   "name": "python",
   "nbconvert_exporter": "python",
   "pygments_lexer": "ipython3",
   "version": "3.10.9"
  }
 },
 "nbformat": 4,
 "nbformat_minor": 5
}
